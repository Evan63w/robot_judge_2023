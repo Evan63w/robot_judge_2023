{
 "cells": [
  {
   "cell_type": "markdown",
   "metadata": {},
   "source": [
    "# HW02 (due October 10th, 23:59)"
   ]
  },
  {
   "cell_type": "markdown",
   "metadata": {},
   "source": [
    "In this homework you will investigate the *causal* of being part of a union on the number of hours worked. You will work with data from the National Longitudinal Survey. In particular, you have a panel of young women who were between 14 and 26 years of age in 1968, surveyed for 20 years.\n",
    "\n",
    "The purpose of this homework is ot make you think about the **identification** assumptions underlying your empirical strategy, namely the assumptions that allow the coefficient estimate from the regressions to be causal. Throughout the homework you will try to address the issue of **omitted variable bias** through different strategies, that will allow to make milder identification assumptions."
   ]
  },
  {
   "cell_type": "markdown",
   "metadata": {},
   "source": [
    "# Load Data"
   ]
  },
  {
   "cell_type": "code",
   "execution_count": 37,
   "metadata": {},
   "outputs": [],
   "source": [
    "##Load the NLSY dataset\n",
    "import pandas as pd\n",
    "#import statsmodels.formula.api as smf\n",
    "import numpy as np\n",
    "\n",
    "data = pd.read_stata('https://www.stata-press.com/data/r16/nlswork.dta')"
   ]
  },
  {
   "cell_type": "code",
   "execution_count": 4,
   "metadata": {},
   "outputs": [
    {
     "data": {
      "text/plain": [
       "{'idcode': 'NLS ID',\n",
       " 'year': 'interview year',\n",
       " 'birth_yr': 'birth year',\n",
       " 'age': 'age in current year',\n",
       " 'race': 'race',\n",
       " 'msp': '1 if married, spouse present',\n",
       " 'nev_mar': '1 if never married',\n",
       " 'grade': 'current grade completed',\n",
       " 'collgrad': '1 if college graduate',\n",
       " 'not_smsa': '1 if not SMSA',\n",
       " 'c_city': '1 if central city',\n",
       " 'south': '1 if south',\n",
       " 'ind_code': 'industry of employment',\n",
       " 'occ_code': 'occupation',\n",
       " 'union': '1 if union',\n",
       " 'wks_ue': 'weeks unemployed last year',\n",
       " 'ttl_exp': 'total work experience',\n",
       " 'tenure': 'job tenure, in years',\n",
       " 'hours': 'usual hours worked',\n",
       " 'wks_work': 'weeks worked last year',\n",
       " 'ln_wage': 'ln(wage/GNP deflator)'}"
      ]
     },
     "execution_count": 4,
     "metadata": {},
     "output_type": "execute_result"
    }
   ],
   "source": [
    "pd.read_stata('https://www.stata-press.com/data/r16/nlswork.dta', iterator=True).variable_labels()"
   ]
  },
  {
   "cell_type": "markdown",
   "metadata": {},
   "source": [
    "#  Summary statistics"
   ]
  },
  {
   "cell_type": "markdown",
   "metadata": {},
   "source": [
    "Inspect the data."
   ]
  },
  {
   "cell_type": "code",
   "execution_count": 48,
   "metadata": {},
   "outputs": [
    {
     "name": "stderr",
     "output_type": "stream",
     "text": [
      "/var/folders/vc/7kh7f0_n749bhl6c8b17t3q40000gn/T/ipykernel_1141/3374572931.py:8: FutureWarning: The default of observed=False is deprecated and will be changed to True in a future version of pandas. Pass observed=False to retain current behavior or observed=True to adopt the future default and silence this warning.\n",
      "  bar_data = data.groupby(['hours_range', 'union']).size().unstack(fill_value=0)\n"
     ]
    },
    {
     "data": {
      "text/plain": [
       "<Axes: xlabel='hours_range'>"
      ]
     },
     "execution_count": 48,
     "metadata": {},
     "output_type": "execute_result"
    },
    {
     "data": {
      "image/png": "[encoded data removed]",
      "text/plain": [
       "<Figure size 1000x600 with 1 Axes>"
      ]
     },
     "metadata": {},
     "output_type": "display_data"
    }
   ],
   "source": [
    "##Visualize the dataset\n",
    "\n",
    "bins = [0, 10, 20, 30, 40, 50, 60, 70, 80, 90, 100, float('inf')]  # Define the bins for hours worked\n",
    "labels = ['0-10', '11-20', '21-30', '31-40', '41-50', '51-60','61-70', '71-80', '81-90', '91-100', '101+']  # Labels for the bins\n",
    "\n",
    "# Create a new column 'hours_range' that specifies the range for each row\n",
    "data['hours_range'] = pd.cut(data['hours'], bins=bins, labels=labels, right=False)\n",
    "bar_data = data.groupby(['hours_range', 'union']).size().unstack(fill_value=0)\n",
    "\n",
    "bar_data.plot(kind='bar', stacked=True, figsize=(10, 6))\n"
   ]
  },
  {
   "cell_type": "code",
   "execution_count": 39,
   "metadata": {},
   "outputs": [
    {
     "data": {
      "text/html": [
       "<div>\n",
       "<style scoped>\n",
       "    .dataframe tbody tr th:only-of-type {\n",
       "        vertical-align: middle;\n",
       "    }\n",
       "\n",
       "    .dataframe tbody tr th {\n",
       "        vertical-align: top;\n",
       "    }\n",
       "\n",
       "    .dataframe thead th {\n",
       "        text-align: right;\n",
       "    }\n",
       "</style>\n",
       "<table border=\"1\" class=\"dataframe\">\n",
       "  <thead>\n",
       "    <tr style=\"text-align: right;\">\n",
       "      <th>union</th>\n",
       "      <th>0.0</th>\n",
       "      <th>1.0</th>\n",
       "    </tr>\n",
       "    <tr>\n",
       "      <th>collgrad</th>\n",
       "      <th></th>\n",
       "      <th></th>\n",
       "    </tr>\n",
       "  </thead>\n",
       "  <tbody>\n",
       "    <tr>\n",
       "      <th>0</th>\n",
       "      <td>0.779522</td>\n",
       "      <td>0.220478</td>\n",
       "    </tr>\n",
       "    <tr>\n",
       "      <th>1</th>\n",
       "      <td>0.708089</td>\n",
       "      <td>0.291911</td>\n",
       "    </tr>\n",
       "  </tbody>\n",
       "</table>\n",
       "</div>"
      ],
      "text/plain": [
       "union          0.0       1.0\n",
       "collgrad                    \n",
       "0         0.779522  0.220478\n",
       "1         0.708089  0.291911"
      ]
     },
     "execution_count": 39,
     "metadata": {},
     "output_type": "execute_result"
    }
   ],
   "source": [
    "##tabulate college and union status \n",
    "pd.crosstab(data['collgrad'], data['union'], rownames=['collgrad'], colnames=['union'], normalize='index')"
   ]
  },
  {
   "cell_type": "code",
   "execution_count": 40,
   "metadata": {},
   "outputs": [],
   "source": [
    "##generate a variable for log hours worked\n",
    "logHours = np.log(data['hours'])"
   ]
  },
  {
   "cell_type": "code",
   "execution_count": 41,
   "metadata": {},
   "outputs": [
    {
     "data": {
      "text/plain": [
       "<seaborn.axisgrid.FacetGrid at 0x120c53850>"
      ]
     },
     "execution_count": 41,
     "metadata": {},
     "output_type": "execute_result"
    },
    {
     "data": {
      "image/png": "[encoded data removed]",
      "text/plain": [
       "<Figure size 500x500 with 1 Axes>"
      ]
     },
     "metadata": {},
     "output_type": "display_data"
    },
    {
     "data": {
      "image/png": "[encoded data removed]",
      "text/plain": [
       "<Figure size 500x500 with 1 Axes>"
      ]
     },
     "metadata": {},
     "output_type": "display_data"
    }
   ],
   "source": [
    "##plot log hours against year separately for union and non-union\n",
    "import seaborn as sns\n",
    "\n",
    "sns.set(style=\"whitegrid\")\n",
    "\n",
    "# Create separate bar plots for union status 0 and 1\n",
    "sns.catplot(x='year', y=logHours, data=data[data['union'] == 0], kind='bar')\n",
    "sns.catplot(x='year', y=logHours, data=data[data['union'] == 1], kind='bar')"
   ]
  },
  {
   "cell_type": "markdown",
   "metadata": {},
   "source": [
    "# Regression: Effect of union status on hours worked"
   ]
  },
  {
   "cell_type": "code",
   "execution_count": 42,
   "metadata": {},
   "outputs": [
    {
     "name": "stdout",
     "output_type": "stream",
     "text": [
      "                            OLS Regression Results                            \n",
      "==============================================================================\n",
      "Dep. Variable:                  hours   R-squared:                       0.007\n",
      "Model:                            OLS   Adj. R-squared:                  0.007\n",
      "Method:                 Least Squares   F-statistic:                     136.6\n",
      "Date:                Thu, 05 Oct 2023   Prob (F-statistic):           1.85e-31\n",
      "Time:                        17:02:15   Log-Likelihood:                -70568.\n",
      "No. Observations:               19202   AIC:                         1.411e+05\n",
      "Df Residuals:                   19200   BIC:                         1.412e+05\n",
      "Df Model:                           1                                         \n",
      "Covariance Type:            nonrobust                                         \n",
      "==============================================================================\n",
      "                 coef    std err          t      P>|t|      [0.025      0.975]\n",
      "------------------------------------------------------------------------------\n",
      "Intercept     36.3112      0.079    461.166      0.000      36.157      36.466\n",
      "union          1.9006      0.163     11.689      0.000       1.582       2.219\n",
      "==============================================================================\n",
      "Omnibus:                     4058.592   Durbin-Watson:                   1.171\n",
      "Prob(Omnibus):                  0.000   Jarque-Bera (JB):            22932.168\n",
      "Skew:                          -0.900   Prob(JB):                         0.00\n",
      "Kurtosis:                       8.042   Cond. No.                         2.52\n",
      "==============================================================================\n",
      "\n",
      "Notes:\n",
      "[1] Standard Errors assume that the covariance matrix of the errors is correctly specified.\n"
     ]
    }
   ],
   "source": [
    "##Regress hours worked against union status and display the results\n",
    "formula = 'hours ~ union'\n",
    "res = smf.ols(formula=formula, data=data.dropna(subset=['union','hours'])).fit()\n",
    "print(res.summary())"
   ]
  },
  {
   "cell_type": "code",
   "execution_count": 43,
   "metadata": {},
   "outputs": [
    {
     "name": "stdout",
     "output_type": "stream",
     "text": [
      "==============================================================================\n",
      "                 coef    std err          t      P>|t|      [0.025      0.975]\n",
      "------------------------------------------------------------------------------\n",
      "Intercept     36.3112      0.079    461.166      0.000      36.157      36.466\n",
      "union          1.9006      0.163     11.689      0.000       1.582       2.219\n",
      "==============================================================================\n"
     ]
    }
   ],
   "source": [
    "##Print or write out the coefficient on union, standard error, t-stat, p-value and confidence interval\n",
    "print(res.summary().tables[1])"
   ]
  },
  {
   "cell_type": "markdown",
   "metadata": {},
   "source": [
    "#### What is the identification assumption for the coefficient on union to be causal?\n",
    "\n",
    "\n",
    "\n"
   ]
  },
  {
   "cell_type": "code",
   "execution_count": 44,
   "metadata": {},
   "outputs": [
    {
     "name": "stdout",
     "output_type": "stream",
     "text": [
      "==============================================================================\n",
      "                 coef    std err          t      P>|t|      [0.025      0.975]\n",
      "------------------------------------------------------------------------------\n",
      "Intercept     35.9239      0.084    425.314      0.000      35.758      36.089\n",
      "union          1.7661      0.162     10.880      0.000       1.448       2.084\n",
      "collgrad       2.1420      0.173     12.353      0.000       1.802       2.482\n",
      "==============================================================================\n"
     ]
    }
   ],
   "source": [
    "## add education (collgrad) to the regression and compare the coefficient on union with the previous result\n",
    "processedData = data\n",
    "processedData.dropna(subset=['union','hours','collgrad'],inplace=True)\n",
    "\n",
    "formula = 'hours ~ union + collgrad'\n",
    "res = smf.ols(formula=formula, data=processedData).fit()\n",
    "print(res.summary().tables[1])"
   ]
  },
  {
   "cell_type": "code",
   "execution_count": 45,
   "metadata": {},
   "outputs": [
    {
     "name": "stdout",
     "output_type": "stream",
     "text": [
      "==============================================================================\n",
      "                 coef    std err          t      P>|t|      [0.025      0.975]\n",
      "------------------------------------------------------------------------------\n",
      "Intercept     36.3363      0.125    291.500      0.000      36.092      36.581\n",
      "union          1.8860      0.165     11.426      0.000       1.562       2.210\n",
      "collgrad       2.2569      0.176     12.853      0.000       1.913       2.601\n",
      "occ_code      -0.0982      0.022     -4.420      0.000      -0.142      -0.055\n",
      "==============================================================================\n"
     ]
    }
   ],
   "source": [
    "## add occupation codes to the regression and compare the results with the previous one\n",
    "processedData = data\n",
    "processedData.dropna(subset=['union','hours','collgrad','occ_code'],inplace=True)\n",
    "\n",
    "formula = 'hours ~ union + collgrad + occ_code'\n",
    "res = smf.ols(formula=formula, data=processedData).fit()\n",
    "print(res.summary().tables[1])"
   ]
  },
  {
   "cell_type": "markdown",
   "metadata": {},
   "source": [
    "#### In terms of causal inference, why is adding occupation code as a control probably not a good idea?\n",
    "\n",
    "Adding occupation code is a bad idea because your occupation is also related to whether you graduated from college, in addition to whether you are in a union or how many hours you work. For example, blue collar workers are less likely to have gone to college and more likely to be in a union. So, some of the independent variables may be closely related in this case.\n"
   ]
  },
  {
   "cell_type": "markdown",
   "metadata": {},
   "source": [
    "#### What are \"good controls\" in the dataset in terms of being exogenous to union status?\n",
    "\n",
    "Good controls are variables such as age and nev_married (marital status). These are less likely to be related to being in a union.\n"
   ]
  },
  {
   "cell_type": "code",
   "execution_count": 46,
   "metadata": {},
   "outputs": [
    {
     "name": "stdout",
     "output_type": "stream",
     "text": [
      "==============================================================================\n",
      "                 coef    std err          t      P>|t|      [0.025      0.975]\n",
      "------------------------------------------------------------------------------\n",
      "Intercept     36.2057      0.380     95.390      0.000      35.462      36.950\n",
      "union          1.8424      0.162     11.380      0.000       1.525       2.160\n",
      "age           -0.0135      0.012     -1.167      0.243      -0.036       0.009\n",
      "nev_mar        2.8004      0.181     15.511      0.000       2.447       3.154\n",
      "==============================================================================\n"
     ]
    }
   ],
   "source": [
    "##add these controls to the regression\n",
    "processedData = data\n",
    "processedData.dropna(subset=['union','hours','age','nev_mar'],inplace=True)\n",
    "\n",
    "formula = 'hours ~ union + age + nev_mar'\n",
    "res = smf.ols(formula=formula, data=processedData).fit()\n",
    "print(res.summary().tables[1])\n"
   ]
  },
  {
   "cell_type": "markdown",
   "metadata": {},
   "source": [
    "#### How do these change your estimates?\n"
   ]
  },
  {
   "cell_type": "markdown",
   "metadata": {},
   "source": [
    "Changing the independent variables to union, age, and nev_mar have changed the results of the variables regarding 'union.' The results changed from \n",
    "\n",
    "Before:\n",
    "\n",
    "Intercept\n",
    "\n",
    "<ul>\n",
    "<li>coef: 36.3363</li>     \n",
    "<li>std err: 0.125</li>     \n",
    "<li>t: 291.500</li>        \n",
    "<li>p: 0.000</li>        \n",
    "<li>[0.025]: 36.092</li>        \n",
    "<li>[0.975]: 36.581</li>  \n",
    "</ul>\n",
    "\n",
    "Union\n",
    "\n",
    "<ul>\n",
    "<li>coef: 1.8860</li>       \n",
    "<li>std err: 0.165</li>      \n",
    "<li>t: 11.426</li>       \n",
    "<li>p: 0.000</li>        \n",
    "<li>[0.025]: 1.562</li>        \n",
    "<li>[0.975]: 2.210</li>  \n",
    "</ul>\n",
    "\n",
    "to \n",
    "\n",
    "Intercept\n",
    "\n",
    "<ul>\n",
    "<li>coef: 36.2057</li>    \n",
    "<li>std err: 36.2057</li>    \n",
    "<li>t: 95.390</li>     \n",
    "<li>p: 0.000</li>      \n",
    "<li>[0.025]: 35.462</li>     \n",
    "<li>[0.975]: 36.950</li>\n",
    "</ul>\n",
    "\n",
    "Union\n",
    "\n",
    "<ul>\n",
    "<li>coef: 1.8424</li>    \n",
    "<li>std err: 0.162</li>    \n",
    "<li>t: 11.380</li>    \n",
    "<li>p: 0.000</li>      \n",
    "<li>[0.025]: 1.525</li>      \n",
    "<li>[0.975]: 2.160</li>\n",
    "</ul>\n",
    "\n",
    "\n",
    "Showing that the results did change slightly based on the independent variables used. So, removing the variables that could be impacting both the independent and dependent variables may have led to a more accurate answer.\n"
   ]
  },
  {
   "cell_type": "markdown",
   "metadata": {},
   "source": [
    "# Short Essay: Correlation/Causation"
   ]
  },
  {
   "cell_type": "markdown",
   "metadata": {},
   "source": [
    "**Find a news article mistaking correlation for causation. Link to the article and write a short paragraph explaining the mistake.**"
   ]
  },
  {
   "cell_type": "markdown",
   "metadata": {},
   "source": [
    "[type your comments here, or attach as separate document.]"
   ]
  },
  {
   "cell_type": "markdown",
   "metadata": {},
   "source": [
    "https://www.cbsnews.com/news/school-vending-machine-laws-would-help-kids-lose-weight-study-shows/\n",
    "\n",
    "This article talks about how schools with vending machines generally have heavier students. A study establishes this well, however, the article also makes a claim that removing the vending machines will help students lose weight. This is confusing correlation with causation because even though the two appear to be linked, the study didn't establish that the vending machines cause the weight gain. And even more so, the study didn't conclusively find that removing vending machines would lead to students losing weight. Interestingly enough, someone challenged this claim and in a new study, found that students moving to a school without vending machines did not lead to a decrease in weight. This could be due to confounding variables that impact weight such as food availability in the town that leads to installing vending machines in the school."
   ]
  }
 ],
 "metadata": {
  "kernelspec": {
   "display_name": "Python 3",
   "language": "python",
   "name": "python3"
  },
  "language_info": {
   "codemirror_mode": {
    "name": "ipython",
    "version": 3
   },
   "file_extension": ".py",
   "mimetype": "text/x-python",
   "name": "python",
   "nbconvert_exporter": "python",
   "pygments_lexer": "ipython3",
   "version": "3.11.3"
  }
 },
 "nbformat": 4,
 "nbformat_minor": 4
}
