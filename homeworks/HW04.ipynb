{
 "cells": [
  {
   "cell_type": "markdown",
   "metadata": {},
   "source": [
    "# HW04: RDD and Diff-in-Diff (due 24th October 23:59)\n",
    "\n",
    "**You will have to solve only one of the two parts (either the RDD or the DiD) to get full credit for this homework.**\n",
    "\n",
    "In this homework you will investigate the causal effect in two different settings, applying different **identification strategies**, You will also reflect and investigate the identification assumptions that allow for a causal interpretation. "
   ]
  },
  {
   "cell_type": "markdown",
   "metadata": {},
   "source": [
    "## Regression Discontinuity Design\n",
    "\n",
    "In this first part you will use data on mayors from municipalities in Brazil to invesitgate th effect of electoral accountability on corruption. The goal is to estimate the effect of being eligible for reelection (having reelection incentives) on misappropriation of resources exploiting random audits on municipalities before the elections. In Brazil there is a two mandate limit for mayors, implying that only mayors in the first mandate can be reelected. The reference paper is [Ferraz and Finan (2011)](https://www.aeaweb.org/articles?id=10.1257/aer.101.4.1274)."
   ]
  },
  {
   "cell_type": "code",
   "execution_count": 1,
   "metadata": {},
   "outputs": [
    {
     "name": "stdout",
     "output_type": "stream",
     "text": [
      "Requirement already satisfied: rdrobust in ./env/lib/python3.11/site-packages (1.2.0)\n",
      "Requirement already satisfied: numpy in ./env/lib/python3.11/site-packages (from rdrobust) (1.26.1)\n",
      "Requirement already satisfied: pandas>=2.0.0 in ./env/lib/python3.11/site-packages (from rdrobust) (2.1.1)\n",
      "Requirement already satisfied: scipy in ./env/lib/python3.11/site-packages (from rdrobust) (1.11.3)\n",
      "Requirement already satisfied: scikit-learn>=1.2.0 in ./env/lib/python3.11/site-packages (from rdrobust) (1.3.1)\n",
      "Requirement already satisfied: plotnine in ./env/lib/python3.11/site-packages (from rdrobust) (0.12.3)\n",
      "Requirement already satisfied: python-dateutil>=2.8.2 in ./env/lib/python3.11/site-packages (from pandas>=2.0.0->rdrobust) (2.8.2)\n",
      "Requirement already satisfied: pytz>=2020.1 in ./env/lib/python3.11/site-packages (from pandas>=2.0.0->rdrobust) (2023.3.post1)\n",
      "Requirement already satisfied: tzdata>=2022.1 in ./env/lib/python3.11/site-packages (from pandas>=2.0.0->rdrobust) (2023.3)\n",
      "Requirement already satisfied: joblib>=1.1.1 in ./env/lib/python3.11/site-packages (from scikit-learn>=1.2.0->rdrobust) (1.3.2)\n",
      "Requirement already satisfied: threadpoolctl>=2.0.0 in ./env/lib/python3.11/site-packages (from scikit-learn>=1.2.0->rdrobust) (3.2.0)\n",
      "Requirement already satisfied: matplotlib>=3.6.0 in ./env/lib/python3.11/site-packages (from plotnine->rdrobust) (3.8.0)\n",
      "Requirement already satisfied: mizani<0.10.0,>0.9.0 in ./env/lib/python3.11/site-packages (from plotnine->rdrobust) (0.9.3)\n",
      "Requirement already satisfied: patsy>=0.5.1 in ./env/lib/python3.11/site-packages (from plotnine->rdrobust) (0.5.3)\n",
      "Requirement already satisfied: statsmodels>=0.14.0 in ./env/lib/python3.11/site-packages (from plotnine->rdrobust) (0.14.0)\n",
      "Requirement already satisfied: contourpy>=1.0.1 in ./env/lib/python3.11/site-packages (from matplotlib>=3.6.0->plotnine->rdrobust) (1.1.1)\n",
      "Requirement already satisfied: cycler>=0.10 in ./env/lib/python3.11/site-packages (from matplotlib>=3.6.0->plotnine->rdrobust) (0.12.1)\n",
      "Requirement already satisfied: fonttools>=4.22.0 in ./env/lib/python3.11/site-packages (from matplotlib>=3.6.0->plotnine->rdrobust) (4.43.1)\n",
      "Requirement already satisfied: kiwisolver>=1.0.1 in ./env/lib/python3.11/site-packages (from matplotlib>=3.6.0->plotnine->rdrobust) (1.4.5)\n",
      "Requirement already satisfied: packaging>=20.0 in ./env/lib/python3.11/site-packages (from matplotlib>=3.6.0->plotnine->rdrobust) (23.2)\n",
      "Requirement already satisfied: pillow>=6.2.0 in ./env/lib/python3.11/site-packages (from matplotlib>=3.6.0->plotnine->rdrobust) (10.1.0)\n",
      "Requirement already satisfied: pyparsing>=2.3.1 in ./env/lib/python3.11/site-packages (from matplotlib>=3.6.0->plotnine->rdrobust) (3.1.1)\n",
      "Requirement already satisfied: six in ./env/lib/python3.11/site-packages (from patsy>=0.5.1->plotnine->rdrobust) (1.16.0)\n"
     ]
    }
   ],
   "source": [
    "!pip install rdrobust"
   ]
  },
  {
   "cell_type": "code",
   "execution_count": 2,
   "metadata": {},
   "outputs": [],
   "source": [
    "from rdrobust import rdrobust, rdbwselect, rdplot\n",
    "import pandas as pd \n",
    "import warnings\n",
    "warnings.filterwarnings('ignore', category=FutureWarning)\n",
    "warnings.filterwarnings('ignore', category=DeprecationWarning)\n",
    "warnings.filterwarnings = lambda *a, **kw: None\n"
   ]
  },
  {
   "cell_type": "code",
   "execution_count": 49,
   "metadata": {},
   "outputs": [
    {
     "name": "stderr",
     "output_type": "stream",
     "text": [
      "/var/folders/vc/7kh7f0_n749bhl6c8b17t3q40000gn/T/ipykernel_86071/2619628620.py:1: UnicodeWarning: \n",
      "One or more strings in the dta file could not be decoded using utf-8, and\n",
      "so the fallback encoding of latin-1 is being used.  This can happen when a file\n",
      "has been incorrectly encoded by Stata or some other software. You should verify\n",
      "the string values returned are correct.\n"
     ]
    }
   ],
   "source": [
    "df = pd.read_stata('data/HW04_data_rdd.dta')"
   ]
  },
  {
   "cell_type": "code",
   "execution_count": 50,
   "metadata": {},
   "outputs": [
    {
     "name": "stderr",
     "output_type": "stream",
     "text": [
      "/var/folders/vc/7kh7f0_n749bhl6c8b17t3q40000gn/T/ipykernel_86071/1581965592.py:1: UnicodeWarning: \n",
      "One or more strings in the dta file could not be decoded using utf-8, and\n",
      "so the fallback encoding of latin-1 is being used.  This can happen when a file\n",
      "has been incorrectly encoded by Stata or some other software. You should verify\n",
      "the string values returned are correct.\n"
     ]
    },
    {
     "data": {
      "text/plain": [
       "{'uf': 'state',\n",
       " 'nsorteio': 'Número do sorteio',\n",
       " 'totrecursos': 'Total de recurso fiscalizado no municipio',\n",
       " 'tot_os': 'Total de OS fiscalizadas no municipio',\n",
       " 'pop': 'População no ano de 2000',\n",
       " 'purb': 'Proporção da população urbana no ano de 2000',\n",
       " 'p_secundario': 'Proporção da população com 18 anos ou mais com secundario completo',\n",
       " 'cod_ibge6': 'cod_ibge6',\n",
       " 'pib_capita_02': 'PIB per capita deflacionado em reais de 2001',\n",
       " 'op_01_04': 'Dummy se o munic teve orçamento participativo no periodo',\n",
       " 'reeleito': 'Dummy de reeleição',\n",
       " 'ENEP2000': '2000 ENEP',\n",
       " 'ENLP2000': '2000 ENLP',\n",
       " 'pref_idade_tse': 'Idade do prefeito',\n",
       " 'comarca': 'Sede de Comarca',\n",
       " 'reeleito_2004': 'Dummy dos candidatos que se reelegeram na eleição de 2004',\n",
       " 'p_cad_pref': 'Proporção de vereadores eleitos do mesmo partido do prefeito',\n",
       " 'rec_transf_correntes': '(mean) rec_transf_correntes',\n",
       " 'gini_ipea': '',\n",
       " 'fiscalizacoes': 'Total ordens de serviço dada pela planilha CGU',\n",
       " 'valor_fiscalizado': 'Total ordens de serviço dada pela planilha CGU',\n",
       " 'incumbent': '(sum) incumbent',\n",
       " 'vereador9600': '',\n",
       " 'pmismanagement': '',\n",
       " 'elected1': '',\n",
       " 'first': '',\n",
       " 'lpib02': '',\n",
       " 'lpop': '',\n",
       " 'pref_masc': '',\n",
       " 'pref_escola': '',\n",
       " 'media2': '',\n",
       " 'vereador_eleit': '',\n",
       " 'mun_novo': '',\n",
       " 'exp_prefeito': '',\n",
       " 'samepartygov98': '',\n",
       " 'lrec_trans': '',\n",
       " 'lfunc_ativ': '',\n",
       " 'lrec_fisc': '',\n",
       " 'ncorrupt': '',\n",
       " 'valor_corrupt': '',\n",
       " 'pcorrupt': '',\n",
       " 'dcorrupt': '',\n",
       " 'esample2': '',\n",
       " 'wm': 'vote margin',\n",
       " 'winning_margin': 'running variable',\n",
       " 'party': 'party affiliation'}"
      ]
     },
     "execution_count": 50,
     "metadata": {},
     "output_type": "execute_result"
    }
   ],
   "source": [
    "df_labels = pd.read_stata('data/HW04_data_rdd.dta', iterator=True).variable_labels()\n",
    "df_labels"
   ]
  },
  {
   "cell_type": "code",
   "execution_count": 51,
   "metadata": {
    "scrolled": true
   },
   "outputs": [
    {
     "data": {
      "text/html": [
       "<div>\n",
       "<style scoped>\n",
       "    .dataframe tbody tr th:only-of-type {\n",
       "        vertical-align: middle;\n",
       "    }\n",
       "\n",
       "    .dataframe tbody tr th {\n",
       "        vertical-align: top;\n",
       "    }\n",
       "\n",
       "    .dataframe thead th {\n",
       "        text-align: right;\n",
       "    }\n",
       "</style>\n",
       "<table border=\"1\" class=\"dataframe\">\n",
       "  <thead>\n",
       "    <tr style=\"text-align: right;\">\n",
       "      <th></th>\n",
       "      <th>uf</th>\n",
       "      <th>nsorteio</th>\n",
       "      <th>totrecursos</th>\n",
       "      <th>tot_os</th>\n",
       "      <th>pop</th>\n",
       "      <th>purb</th>\n",
       "      <th>p_secundario</th>\n",
       "      <th>cod_ibge6</th>\n",
       "      <th>pib_capita_02</th>\n",
       "      <th>op_01_04</th>\n",
       "      <th>...</th>\n",
       "      <th>lfunc_ativ</th>\n",
       "      <th>lrec_fisc</th>\n",
       "      <th>ncorrupt</th>\n",
       "      <th>valor_corrupt</th>\n",
       "      <th>pcorrupt</th>\n",
       "      <th>dcorrupt</th>\n",
       "      <th>esample2</th>\n",
       "      <th>wm</th>\n",
       "      <th>winning_margin</th>\n",
       "      <th>party</th>\n",
       "    </tr>\n",
       "  </thead>\n",
       "  <tbody>\n",
       "    <tr>\n",
       "      <th>0</th>\n",
       "      <td>RO</td>\n",
       "      <td>5</td>\n",
       "      <td>6913597.38</td>\n",
       "      <td>47.0</td>\n",
       "      <td>18207</td>\n",
       "      <td>0.815401</td>\n",
       "      <td>0.248250</td>\n",
       "      <td>566128.0</td>\n",
       "      <td>3548.000977</td>\n",
       "      <td>0</td>\n",
       "      <td>...</td>\n",
       "      <td>6.167517</td>\n",
       "      <td>15.749001</td>\n",
       "      <td>3.0</td>\n",
       "      <td>672785.125</td>\n",
       "      <td>0.097313</td>\n",
       "      <td>1.0</td>\n",
       "      <td>1.0</td>\n",
       "      <td>0.030935</td>\n",
       "      <td>-0.030935</td>\n",
       "      <td>16</td>\n",
       "    </tr>\n",
       "    <tr>\n",
       "      <th>1</th>\n",
       "      <td>RO</td>\n",
       "      <td>7</td>\n",
       "      <td>7135210.78</td>\n",
       "      <td>62.0</td>\n",
       "      <td>10459</td>\n",
       "      <td>0.198203</td>\n",
       "      <td>0.110925</td>\n",
       "      <td>566130.0</td>\n",
       "      <td>4203.421875</td>\n",
       "      <td>0</td>\n",
       "      <td>...</td>\n",
       "      <td>5.641907</td>\n",
       "      <td>15.780552</td>\n",
       "      <td>0.0</td>\n",
       "      <td>0.000</td>\n",
       "      <td>0.000000</td>\n",
       "      <td>0.0</td>\n",
       "      <td>1.0</td>\n",
       "      <td>0.172863</td>\n",
       "      <td>0.172863</td>\n",
       "      <td>3</td>\n",
       "    </tr>\n",
       "    <tr>\n",
       "      <th>2</th>\n",
       "      <td>RO</td>\n",
       "      <td>2</td>\n",
       "      <td>26821074.06</td>\n",
       "      <td>140.0</td>\n",
       "      <td>40884</td>\n",
       "      <td>0.649178</td>\n",
       "      <td>0.254702</td>\n",
       "      <td>566138.0</td>\n",
       "      <td>3904.267334</td>\n",
       "      <td>0</td>\n",
       "      <td>...</td>\n",
       "      <td>6.872128</td>\n",
       "      <td>17.104698</td>\n",
       "      <td>1.0</td>\n",
       "      <td>0.000</td>\n",
       "      <td>0.000000</td>\n",
       "      <td>1.0</td>\n",
       "      <td>1.0</td>\n",
       "      <td>0.310956</td>\n",
       "      <td>0.310956</td>\n",
       "      <td>18</td>\n",
       "    </tr>\n",
       "    <tr>\n",
       "      <th>3</th>\n",
       "      <td>RO</td>\n",
       "      <td>4</td>\n",
       "      <td>14710780.70</td>\n",
       "      <td>89.0</td>\n",
       "      <td>47382</td>\n",
       "      <td>0.726457</td>\n",
       "      <td>0.267212</td>\n",
       "      <td>566151.0</td>\n",
       "      <td>4081.257812</td>\n",
       "      <td>0</td>\n",
       "      <td>...</td>\n",
       "      <td>6.979145</td>\n",
       "      <td>16.504091</td>\n",
       "      <td>0.0</td>\n",
       "      <td>0.000</td>\n",
       "      <td>0.000000</td>\n",
       "      <td>0.0</td>\n",
       "      <td>1.0</td>\n",
       "      <td>0.391912</td>\n",
       "      <td>0.391912</td>\n",
       "      <td>18</td>\n",
       "    </tr>\n",
       "    <tr>\n",
       "      <th>4</th>\n",
       "      <td>RO</td>\n",
       "      <td>3</td>\n",
       "      <td>4181534.83</td>\n",
       "      <td>NaN</td>\n",
       "      <td>23874</td>\n",
       "      <td>0.271257</td>\n",
       "      <td>0.134546</td>\n",
       "      <td>566155.0</td>\n",
       "      <td>2192.473633</td>\n",
       "      <td>1</td>\n",
       "      <td>...</td>\n",
       "      <td>6.118097</td>\n",
       "      <td>15.246189</td>\n",
       "      <td>0.0</td>\n",
       "      <td>0.000</td>\n",
       "      <td>0.000000</td>\n",
       "      <td>0.0</td>\n",
       "      <td>1.0</td>\n",
       "      <td>0.186155</td>\n",
       "      <td>0.186155</td>\n",
       "      <td>14</td>\n",
       "    </tr>\n",
       "  </tbody>\n",
       "</table>\n",
       "<p>5 rows × 46 columns</p>\n",
       "</div>"
      ],
      "text/plain": [
       "   uf  nsorteio  totrecursos  tot_os    pop      purb  p_secundario  \\\n",
       "0  RO         5   6913597.38    47.0  18207  0.815401      0.248250   \n",
       "1  RO         7   7135210.78    62.0  10459  0.198203      0.110925   \n",
       "2  RO         2  26821074.06   140.0  40884  0.649178      0.254702   \n",
       "3  RO         4  14710780.70    89.0  47382  0.726457      0.267212   \n",
       "4  RO         3   4181534.83     NaN  23874  0.271257      0.134546   \n",
       "\n",
       "   cod_ibge6  pib_capita_02  op_01_04  ...  lfunc_ativ  lrec_fisc  ncorrupt  \\\n",
       "0   566128.0    3548.000977         0  ...    6.167517  15.749001       3.0   \n",
       "1   566130.0    4203.421875         0  ...    5.641907  15.780552       0.0   \n",
       "2   566138.0    3904.267334         0  ...    6.872128  17.104698       1.0   \n",
       "3   566151.0    4081.257812         0  ...    6.979145  16.504091       0.0   \n",
       "4   566155.0    2192.473633         1  ...    6.118097  15.246189       0.0   \n",
       "\n",
       "   valor_corrupt  pcorrupt  dcorrupt  esample2        wm  winning_margin  \\\n",
       "0     672785.125  0.097313       1.0       1.0  0.030935       -0.030935   \n",
       "1          0.000  0.000000       0.0       1.0  0.172863        0.172863   \n",
       "2          0.000  0.000000       1.0       1.0  0.310956        0.310956   \n",
       "3          0.000  0.000000       0.0       1.0  0.391912        0.391912   \n",
       "4          0.000  0.000000       0.0       1.0  0.186155        0.186155   \n",
       "\n",
       "   party  \n",
       "0     16  \n",
       "1      3  \n",
       "2     18  \n",
       "3     18  \n",
       "4     14  \n",
       "\n",
       "[5 rows x 46 columns]"
      ]
     },
     "execution_count": 51,
     "metadata": {},
     "output_type": "execute_result"
    }
   ],
   "source": [
    "df = df[df['esample2']==1]\n",
    "df.head()"
   ]
  },
  {
   "cell_type": "markdown",
   "metadata": {},
   "source": [
    "The main outcome of interest is *pcorrupt*, namely, the share of audited resources found that involve corruption (a measure of misappropriation). The explanatory variable is *first*, a dummy variable indicating whether the mayor is in his first mandate. The regression of interest is the following: \n",
    "\n",
    "<center>$pcorrupt_i = \\beta_0 + \\beta_1 first_i + \\varepsilon_i$</center>"
   ]
  },
  {
   "cell_type": "code",
   "execution_count": 57,
   "metadata": {},
   "outputs": [
    {
     "name": "stdout",
     "output_type": "stream",
     "text": [
      "\n",
      "=======================\n",
      "               pcorrupt\n",
      "-----------------------\n",
      "Intercept      0.07*** \n",
      "               (0.01)  \n",
      "first          -0.02** \n",
      "               (0.01)  \n",
      "R-squared      0.01    \n",
      "R-squared Adj. 0.01    \n",
      "=======================\n",
      "Standard errors in\n",
      "parentheses.\n",
      "* p<.1, ** p<.05,\n",
      "***p<.01\n"
     ]
    }
   ],
   "source": [
    "## run the regression above using robust standard errors\n",
    "import statsmodels.formula.api as smf \n",
    "from statsmodels.iolib.summary2 import summary_col\n",
    "formula = 'pcorrupt ~ first'\n",
    "\n",
    "model = smf.ols(formula,data=df)\n",
    "ols1 = model.fit(cov_type='HC3')\n",
    "summary = summary_col([ols1], stars=True, float_format='%0.2f')\n",
    "print(summary)\n"
   ]
  },
  {
   "cell_type": "markdown",
   "metadata": {},
   "source": [
    "**What could be some sources of bias, namely, variables that act as confounder?**\n",
    "\n",
    "Variables that could act as confounders include p_secundario (% of citizens who had secondary education), uf (state), and exp_prefeito (mayor experience). These variables can be confounders because they have the potential to influence both the treatment (seeking reelection) and outcome (corruption). p_secundario could influence the tendency to seek reelection because having more highly or lowly educated citizens can have an effect on the approval ratings of a first-term mayor and influence whether a mayor thinks that they can get away with corruption. The state can also impact reelection and corruption because certain states surely have different proportions of mayors who run for reelection or who are corrupt. Finally, the experience of the candidate can influence whether they think they should run for a second term and whether they've been exposed to or want to attempt corruption.\n"
   ]
  },
  {
   "cell_type": "code",
   "execution_count": 58,
   "metadata": {},
   "outputs": [
    {
     "name": "stdout",
     "output_type": "stream",
     "text": [
      "\n",
      "=======================\n",
      "               pcorrupt\n",
      "-----------------------\n",
      "Intercept      0.07*** \n",
      "               (0.01)  \n",
      "first          -0.02** \n",
      "               (0.01)  \n",
      "R-squared      0.01    \n",
      "R-squared Adj. 0.01    \n",
      "=======================\n",
      "Standard errors in\n",
      "parentheses.\n",
      "* p<.1, ** p<.05,\n",
      "***p<.01\n"
     ]
    }
   ],
   "source": [
    "## run the regression above adding the variables that may act as a confounder\n",
    "formula = 'pcorrupt ~ first + p_secundario + uf + exp_prefeito'\n",
    "\n",
    "model = smf.ols(formula,data=df)\n",
    "ols2 = model.fit(cov_type='HC3')\n",
    "summary = summary_col([ols1], stars=True, float_format='%0.2f')"
   ]
  },
  {
   "cell_type": "code",
   "execution_count": 59,
   "metadata": {},
   "outputs": [
    {
     "name": "stdout",
     "output_type": "stream",
     "text": [
      "\n",
      "=======================\n",
      "               pcorrupt\n",
      "-----------------------\n",
      "Intercept      0.07*** \n",
      "               (0.01)  \n",
      "first          -0.02** \n",
      "               (0.01)  \n",
      "R-squared      0.01    \n",
      "R-squared Adj. 0.01    \n",
      "=======================\n",
      "Standard errors in\n",
      "parentheses.\n",
      "* p<.1, ** p<.05,\n",
      "***p<.01\n"
     ]
    }
   ],
   "source": [
    "## display the results \n",
    "print(summary)\n"
   ]
  },
  {
   "cell_type": "markdown",
   "metadata": {},
   "source": [
    "**In your opinion, are there any additional sources of bias that threatens the causal interpretation of the results?**"
   ]
  },
  {
   "cell_type": "markdown",
   "metadata": {},
   "source": [
    "To make sure that this is not the case we will use a regression discontinuity design where the running variable is the margin by which the incumbent won or lost in the previous election. Namely, we compare municipalities where incumbents won or lost by a narrow margin. This comparison provides quasi-random assignment of first-term and second-term mayors across these competitive elections."
   ]
  },
  {
   "cell_type": "code",
   "execution_count": null,
   "metadata": {
    "scrolled": true
   },
   "outputs": [],
   "source": [
    "## plot the RD plot using as running variable the variable winning_margin\n",
    "## use a second order polynomial and 15 bins at each side\n",
    "\n",
    "margin = df.dropna(subset=['winning_margin']).winning_margin\n",
    "corruption = df.dropna(subset=['winning_margin']).pcorrupt\n",
    "rdplot(...)"
   ]
  },
  {
   "cell_type": "code",
   "execution_count": null,
   "metadata": {},
   "outputs": [],
   "source": [
    "## run the RD regression using the same dependent and explanatory variable as before\n",
    "## include 4th degree polynomial and the covariates that you included above\n",
    "covs = pd.concat([df.dropna(subset=['winning_margin'])[[...]], axis=1)\n",
    "print(rdrobust(...))"
   ]
  },
  {
   "cell_type": "markdown",
   "metadata": {},
   "source": [
    "**Interpret the coefficient**"
   ]
  },
  {
   "cell_type": "markdown",
   "metadata": {},
   "source": [
    "## Difference-in-Differences"
   ]
  },
  {
   "cell_type": "markdown",
   "metadata": {},
   "source": [
    "In this part you will use data from Argentina to investigate the causal effect of police on crime. Following the paper by [Di Tella and Schargrodsky (2004)](https://www.aeaweb.org/articles?id=10.1257/000282804322970733), you will exploit the follow-up of a terrorist attack tto the Jewish center in Buenos Aires in July 1994, after which all Jewish institution received police protection. This event induced a geographical allocation of police forces orthogonal to a crime regression allowing to isolate the causal effect of having more police in a neighborhood on a proxy for crime (car thefts), through a difference-in-differences analysis. "
   ]
  },
  {
   "cell_type": "code",
   "execution_count": 27,
   "metadata": {
    "scrolled": false
   },
   "outputs": [
    {
     "name": "stderr",
     "output_type": "stream",
     "text": [
      "/var/folders/vc/7kh7f0_n749bhl6c8b17t3q40000gn/T/ipykernel_86071/1792503655.py:1: UnicodeWarning: \n",
      "One or more strings in the dta file could not be decoded using utf-8, and\n",
      "so the fallback encoding of latin-1 is being used.  This can happen when a file\n",
      "has been incorrectly encoded by Stata or some other software. You should verify\n",
      "the string values returned are correct.\n"
     ]
    },
    {
     "data": {
      "text/plain": [
       "{'observ': 'block id',\n",
       " 'barrio': 'neighborhood',\n",
       " 'calle': 'street',\n",
       " 'altura': 'street numbering',\n",
       " 'institu1': 'dummy Jewish institution in the block',\n",
       " 'institu3': 'dummy Jewish institution one block away',\n",
       " 'distanci': 'block distance to closest institution',\n",
       " 'edpub': 'dummy public building/embassy',\n",
       " 'estserv': 'dummy gas station',\n",
       " 'banco': 'dummy bank',\n",
       " 'totrob': 'car theft',\n",
       " 'mes': 'month',\n",
       " 'inst3_1': '',\n",
       " 'month5': '',\n",
       " 'post': '',\n",
       " 'inst1p': '',\n",
       " 'inst3_1p': ''}"
      ]
     },
     "execution_count": 27,
     "metadata": {},
     "output_type": "execute_result"
    }
   ],
   "source": [
    "df = pd.read_stata('data/HW04_data_DiD.dta')\n",
    "df_labels = pd.read_stata('data/HW04_data_DiD.dta', iterator=True).variable_labels()\n",
    "df_labels"
   ]
  },
  {
   "cell_type": "code",
   "execution_count": 4,
   "metadata": {},
   "outputs": [
    {
     "data": {
      "text/html": [
       "<div>\n",
       "<style scoped>\n",
       "    .dataframe tbody tr th:only-of-type {\n",
       "        vertical-align: middle;\n",
       "    }\n",
       "\n",
       "    .dataframe tbody tr th {\n",
       "        vertical-align: top;\n",
       "    }\n",
       "\n",
       "    .dataframe thead th {\n",
       "        text-align: right;\n",
       "    }\n",
       "</style>\n",
       "<table border=\"1\" class=\"dataframe\">\n",
       "  <thead>\n",
       "    <tr style=\"text-align: right;\">\n",
       "      <th></th>\n",
       "      <th>observ</th>\n",
       "      <th>barrio</th>\n",
       "      <th>calle</th>\n",
       "      <th>altura</th>\n",
       "      <th>institu1</th>\n",
       "      <th>institu3</th>\n",
       "      <th>distanci</th>\n",
       "      <th>edpub</th>\n",
       "      <th>estserv</th>\n",
       "      <th>banco</th>\n",
       "      <th>totrob</th>\n",
       "      <th>mes</th>\n",
       "      <th>inst3_1</th>\n",
       "      <th>month5</th>\n",
       "      <th>post</th>\n",
       "      <th>inst1p</th>\n",
       "      <th>inst3_1p</th>\n",
       "    </tr>\n",
       "  </thead>\n",
       "  <tbody>\n",
       "    <tr>\n",
       "      <th>0</th>\n",
       "      <td>870.0</td>\n",
       "      <td>Once</td>\n",
       "      <td>Cordoba</td>\n",
       "      <td>a2300</td>\n",
       "      <td>0.0</td>\n",
       "      <td>1.0</td>\n",
       "      <td>1.0</td>\n",
       "      <td>1.0</td>\n",
       "      <td>0.0</td>\n",
       "      <td>0.0</td>\n",
       "      <td>0.0</td>\n",
       "      <td>4.0</td>\n",
       "      <td>1.0</td>\n",
       "      <td>0.0</td>\n",
       "      <td>0.0</td>\n",
       "      <td>0.0</td>\n",
       "      <td>0.0</td>\n",
       "    </tr>\n",
       "    <tr>\n",
       "      <th>1</th>\n",
       "      <td>851.0</td>\n",
       "      <td>Once</td>\n",
       "      <td>Tucuman</td>\n",
       "      <td>a2400</td>\n",
       "      <td>0.0</td>\n",
       "      <td>0.0</td>\n",
       "      <td>2.0</td>\n",
       "      <td>0.0</td>\n",
       "      <td>0.0</td>\n",
       "      <td>0.0</td>\n",
       "      <td>0.0</td>\n",
       "      <td>4.0</td>\n",
       "      <td>0.0</td>\n",
       "      <td>0.0</td>\n",
       "      <td>0.0</td>\n",
       "      <td>0.0</td>\n",
       "      <td>0.0</td>\n",
       "    </tr>\n",
       "    <tr>\n",
       "      <th>2</th>\n",
       "      <td>843.0</td>\n",
       "      <td>Once</td>\n",
       "      <td>Lavalle</td>\n",
       "      <td>a2300</td>\n",
       "      <td>1.0</td>\n",
       "      <td>1.0</td>\n",
       "      <td>0.0</td>\n",
       "      <td>0.0</td>\n",
       "      <td>0.0</td>\n",
       "      <td>1.0</td>\n",
       "      <td>0.0</td>\n",
       "      <td>4.0</td>\n",
       "      <td>0.0</td>\n",
       "      <td>0.0</td>\n",
       "      <td>0.0</td>\n",
       "      <td>0.0</td>\n",
       "      <td>0.0</td>\n",
       "    </tr>\n",
       "    <tr>\n",
       "      <th>3</th>\n",
       "      <td>796.0</td>\n",
       "      <td>Once</td>\n",
       "      <td>Pasteur</td>\n",
       "      <td>a500</td>\n",
       "      <td>0.0</td>\n",
       "      <td>1.0</td>\n",
       "      <td>1.0</td>\n",
       "      <td>0.0</td>\n",
       "      <td>0.0</td>\n",
       "      <td>0.0</td>\n",
       "      <td>0.0</td>\n",
       "      <td>4.0</td>\n",
       "      <td>1.0</td>\n",
       "      <td>0.0</td>\n",
       "      <td>0.0</td>\n",
       "      <td>0.0</td>\n",
       "      <td>0.0</td>\n",
       "    </tr>\n",
       "    <tr>\n",
       "      <th>4</th>\n",
       "      <td>790.0</td>\n",
       "      <td>Once</td>\n",
       "      <td>Azcuenaga</td>\n",
       "      <td>a700</td>\n",
       "      <td>1.0</td>\n",
       "      <td>1.0</td>\n",
       "      <td>0.0</td>\n",
       "      <td>0.0</td>\n",
       "      <td>0.0</td>\n",
       "      <td>0.0</td>\n",
       "      <td>0.0</td>\n",
       "      <td>4.0</td>\n",
       "      <td>0.0</td>\n",
       "      <td>0.0</td>\n",
       "      <td>0.0</td>\n",
       "      <td>0.0</td>\n",
       "      <td>0.0</td>\n",
       "    </tr>\n",
       "  </tbody>\n",
       "</table>\n",
       "</div>"
      ],
      "text/plain": [
       "   observ barrio      calle altura  institu1  institu3  distanci  edpub  \\\n",
       "0   870.0   Once    Cordoba  a2300       0.0       1.0       1.0    1.0   \n",
       "1   851.0   Once    Tucuman  a2400       0.0       0.0       2.0    0.0   \n",
       "2   843.0   Once    Lavalle  a2300       1.0       1.0       0.0    0.0   \n",
       "3   796.0   Once    Pasteur   a500       0.0       1.0       1.0    0.0   \n",
       "4   790.0   Once  Azcuenaga   a700       1.0       1.0       0.0    0.0   \n",
       "\n",
       "   estserv  banco  totrob  mes  inst3_1  month5  post  inst1p  inst3_1p  \n",
       "0      0.0    0.0     0.0  4.0      1.0     0.0   0.0     0.0       0.0  \n",
       "1      0.0    0.0     0.0  4.0      0.0     0.0   0.0     0.0       0.0  \n",
       "2      0.0    1.0     0.0  4.0      0.0     0.0   0.0     0.0       0.0  \n",
       "3      0.0    0.0     0.0  4.0      1.0     0.0   0.0     0.0       0.0  \n",
       "4      0.0    0.0     0.0  4.0      0.0     0.0   0.0     0.0       0.0  "
      ]
     },
     "execution_count": 4,
     "metadata": {},
     "output_type": "execute_result"
    }
   ],
   "source": [
    "df.head()"
   ]
  },
  {
   "cell_type": "markdown",
   "metadata": {},
   "source": [
    "The main outcome of interest is *totrob*, the total number of car thefts (proxy for criminal activity). The main explanatory variable is a dummy variable indicating whether the there is a Jewish institution in the neighborhood **and** the observation is after July (*inst1p*). The main regression is the following: \n",
    "\n",
    "<center>$totrob_i = \\beta_0 + \\beta_1 inst1p_i + \\varepsilon_i$</center>"
   ]
  },
  {
   "cell_type": "code",
   "execution_count": 39,
   "metadata": {},
   "outputs": [],
   "source": [
    "## Run the regression above with robust standard errors\n",
    "import statsmodels.formula.api as smf\n",
    "\n",
    "ols1 = smf.ols(formula='totrob ~ inst1p',data=df)\n",
    "regression1 = ols1.fit()"
   ]
  },
  {
   "cell_type": "markdown",
   "metadata": {},
   "source": [
    "**Why this estimate CANNOT be interpreted as causal?**\n",
    "\n",
    "An OLS determines correlation between 2 variables, which is distinct from causation. "
   ]
  },
  {
   "cell_type": "code",
   "execution_count": 24,
   "metadata": {},
   "outputs": [
    {
     "name": "stdout",
     "output_type": "stream",
     "text": [
      "[0. 1.]\n",
      "[ 4.  5.  6.  7.  8.  9. 10. 11. 12.]\n",
      "[ 4.  5.  6.  7.  8.  9. 10. 11. 12.]\n",
      "333\n",
      "7551\n"
     ]
    },
    {
     "data": {
      "image/png": "[encoded data removed]",
      "text/plain": [
       "<Figure size 640x480 with 2 Axes>"
      ]
     },
     "metadata": {},
     "output_type": "display_data"
    }
   ],
   "source": [
    "## Plot the time series of car thefts separately for blocks with and without a jewish institutions\n",
    "## Add a vertical line indicating the terrorist attack \n",
    "import seaborn as sns\n",
    "import matplotlib.pyplot as plt\n",
    "print(df['institu1'].unique())\n",
    "jewish = df[df['institu1'] == 1]\n",
    "non_jewish = df[df['institu1'] == 0]\n",
    "print(jewish['mes'].unique())\n",
    "print(non_jewish['mes'].unique())\n",
    "print(jewish.shape[0])\n",
    "print(non_jewish.shape[0])\n",
    "\n",
    "\n",
    "\n",
    "plt.subplot(2,1,1)\n",
    "sns.lineplot(x='mes',y='totrob',data=jewish)\n",
    "plt.title('Car thefts for blocks with jewish institutions over time')\n",
    "plt.xlabel('Month')\n",
    "plt.ylabel('Car Thefts')\n",
    "plt.xlim(4, 12)\n",
    "plt.axvline(x=7, color='red', linestyle='--', label='Terrorist Attack')\n",
    "\n",
    "\n",
    "\n",
    "plt.subplot(2,1,2)\n",
    "plt.xlabel('Month')\n",
    "plt.ylabel('Care thefts')\n",
    "plt.title('Car thefts for blocks without jewish institutions over time')\n",
    "sns.lineplot(x='mes',y='totrob',data=non_jewish)\n",
    "plt.axvline(x=7, color='red', linestyle='--', label='Terrorist Attack')\n",
    "\n",
    "\n",
    "plt.tight_layout()\n",
    "\n",
    "\n",
    "\n"
   ]
  },
  {
   "cell_type": "markdown",
   "metadata": {},
   "source": [
    "**Does the parallel trend assumption hold?**\n",
    "\n",
    "Yes. This is because both sets of data are trending downwards before the time of the attack. Even though they don't follow each other's trend exactly, they are both approximately responding to the month variable the same. "
   ]
  },
  {
   "cell_type": "code",
   "execution_count": 35,
   "metadata": {},
   "outputs": [
    {
     "name": "stdout",
     "output_type": "stream",
     "text": [
      "Index(['observ', 'barrio', 'calle', 'altura', 'institu1', 'institu3',\n",
      "       'distanci', 'edpub', 'estserv', 'banco', 'totrob', 'mes', 'inst3_1',\n",
      "       'month5', 'post', 'inst1p', 'inst3_1p'],\n",
      "      dtype='object')\n"
     ]
    }
   ],
   "source": [
    "##Run the regression above including month and block fixed effects\n",
    "from linearmodels import PanelOLS\n",
    "print(df.columns)\n",
    "panel_data = df.set_index(['observ', 'mes'])\n",
    "\n",
    "did = PanelOLS.from_formula('totrob ~ inst1p + EntityEffects + TimeEffects',data=panel_data)\n",
    "result2 = did.fit()"
   ]
  },
  {
   "cell_type": "code",
   "execution_count": 48,
   "metadata": {},
   "outputs": [
    {
     "name": "stdout",
     "output_type": "stream",
     "text": [
      "                            OLS Regression Results                            \n",
      "==============================================================================\n",
      "Dep. Variable:                 totrob   R-squared:                       0.001\n",
      "Model:                            OLS   Adj. R-squared:                  0.001\n",
      "Method:                 Least Squares   F-statistic:                     10.82\n",
      "Date:                Sat, 21 Oct 2023   Prob (F-statistic):            0.00101\n",
      "Time:                        15:37:16   Log-Likelihood:                 4.5306\n",
      "No. Observations:                7884   AIC:                            -5.061\n",
      "Df Residuals:                    7882   BIC:                             8.884\n",
      "Df Model:                           1                                         \n",
      "Covariance Type:            nonrobust                                         \n",
      "==============================================================================\n",
      "                 coef    std err          t      P>|t|      [0.025      0.975]\n",
      "------------------------------------------------------------------------------\n",
      "Intercept      0.0943      0.003     34.222      0.000       0.089       0.100\n",
      "inst1p        -0.0592      0.018     -3.290      0.001      -0.094      -0.024\n",
      "==============================================================================\n",
      "Omnibus:                     5778.589   Durbin-Watson:                   1.891\n",
      "Prob(Omnibus):                  0.000   Jarque-Bera (JB):            81436.831\n",
      "Skew:                           3.518   Prob(JB):                         0.00\n",
      "Kurtosis:                      17.085   Cond. No.                         6.61\n",
      "==============================================================================\n",
      "\n",
      "Notes:\n",
      "[1] Standard Errors assume that the covariance matrix of the errors is correctly specified.\n",
      "                          PanelOLS Estimation Summary                           \n",
      "================================================================================\n",
      "Dep. Variable:                 totrob   R-squared:                        0.0013\n",
      "Estimator:                   PanelOLS   R-squared (Between):             -0.0149\n",
      "No. Observations:                7884   R-squared (Within):               0.0005\n",
      "Date:                Sat, Oct 21 2023   R-squared (Overall):             -0.0040\n",
      "Time:                        15:22:25   Log-likelihood                    870.52\n",
      "Cov. Estimator:            Unadjusted                                           \n",
      "                                        F-statistic:                      8.9506\n",
      "Entities:                         876   P-value                           0.0028\n",
      "Avg Obs:                       9.0000   Distribution:                  F(1,6999)\n",
      "Min Obs:                       9.0000                                           \n",
      "Max Obs:                       9.0000   F-statistic (robust):             8.9506\n",
      "                                        P-value                           0.0028\n",
      "Time periods:                       9   Distribution:                  F(1,6999)\n",
      "Avg Obs:                       876.00                                           \n",
      "Min Obs:                       876.00                                           \n",
      "Max Obs:                       876.00                                           \n",
      "                                                                                \n",
      "                             Parameter Estimates                              \n",
      "==============================================================================\n",
      "            Parameter  Std. Err.     T-stat    P-value    Lower CI    Upper CI\n",
      "------------------------------------------------------------------------------\n",
      "inst1p        -0.0775     0.0259    -2.9918     0.0028     -0.1283     -0.0267\n",
      "==============================================================================\n",
      "\n",
      "F-test for Poolability: 1.9474\n",
      "P-value: 0.0000\n",
      "Distribution: F(883,6999)\n",
      "\n",
      "Included effects: Entity, Time\n"
     ]
    }
   ],
   "source": [
    "##show the results from both regressions\n",
    "print(regression1.summary())\n",
    "print(result2.summary)"
   ]
  },
  {
   "cell_type": "markdown",
   "metadata": {},
   "source": [
    "**Compare and interpret the results**\n",
    "\n",
    "The first regression shows an r-squared value of 0.0021 and f-statistic of \n",
    "10.82. This means that the according to this regression, the presence of a Jewish institution harly explains the amount of car thefts at all. However, the large f-statistic shows that the model itself is highly significant.\n",
    "\n",
    "The first model parameters yielded an equation of totrob = .09 - .05 (inst1p). The t statistic of the intercept is large (34.22), which is not important in this context because we are more interested in the slope. The slope is -0.0592 with a t statistic of -3.29, which is outside the range of -2:2 so it is statistically significant. \n",
    "\n",
    "So, while the t statistics are high, the model shows that the presence of a Jewish institution does not explain the crime very well. \n",
    "\n",
    "The second regression shows an r-squared value of 0.0013 and f-statistic of \n",
    "8.95. This means that the according to this regression, the presence of a Jewish institution harly explains the amount of car thefts at all. However, the large f-statistic shows that the model itself is highly significant.  Interestingly, shown by the r squared value being smaller and the f-statistic being smaller than the original regression, this means that this model does not support a correlation as well as the first model. \n",
    "\n",
    "The second model parameters yielded an equation of totrob = -.0775(inst1p). The slope is -0.0775 with a t statistic of -2.99, which is outside the range of -2:2 so it is statistically significant.\n",
    "\n",
    "So, while the second model tried to control for some fixed effects, it did not show a stronger correlation."
   ]
  }
 ],
 "metadata": {
  "kernelspec": {
   "display_name": "Python 3",
   "language": "python",
   "name": "python3"
  },
  "language_info": {
   "codemirror_mode": {
    "name": "ipython",
    "version": 3
   },
   "file_extension": ".py",
   "mimetype": "text/x-python",
   "name": "python",
   "nbconvert_exporter": "python",
   "pygments_lexer": "ipython3",
   "version": "3.11.3"
  }
 },
 "nbformat": 4,
 "nbformat_minor": 5
}
