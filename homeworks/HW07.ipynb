{
 "cells": [
  {
   "cell_type": "markdown",
   "metadata": {},
   "source": [
    "# HW07 - Instrumental Variables (due 16 Nov 2023)\n",
    "\n",
    "In this homework you will practice with running IV regressions with python. You will investigate once more the effect of schooling on earnings, but this time the instrument for education you will use is college proximity to individuals houses (reference paper by [Card, 1993](https://davidcard.berkeley.edu/papers/geo_var_schooling.pdf)).\n",
    "\n",
    "More in detail, there are two instruments that can be exploited in this context. Both are binary variables taking value 1 if either a 2-years or 4-years college is present in the area where the individual lives."
   ]
  },
  {
   "cell_type": "code",
   "execution_count": 14,
   "metadata": {},
   "outputs": [
    {
     "data": {
      "text/plain": [
       "{'id': '',\n",
       " 'nearc2': '=1 if near 2 yr college, 1966',\n",
       " 'nearc4': '=1 if near 4 yr college, 1966',\n",
       " 'educ': 'years of schooling, 1976',\n",
       " 'age': 'in years',\n",
       " 'fatheduc': \"father's schooling\",\n",
       " 'motheduc': \"mother's schooling\",\n",
       " 'weight': 'NLS sampling weight, 1976',\n",
       " 'momdad14': '=1 if live with mom, dad at 14',\n",
       " 'sinmom14': '=1 if with single mom at 14',\n",
       " 'step14': '=1 if with step parent at 14',\n",
       " 'reg661': 'regional dummy, 1966',\n",
       " 'reg662': '',\n",
       " 'reg663': '',\n",
       " 'reg664': '',\n",
       " 'reg665': '',\n",
       " 'reg666': '',\n",
       " 'reg667': '',\n",
       " 'reg668': '',\n",
       " 'reg669': '',\n",
       " 'south66': '=1 if in south in 1966',\n",
       " 'black': '=1 if black',\n",
       " 'smsa': '=1 in in SMSA, 1976',\n",
       " 'south': '=1 if in south, 1976',\n",
       " 'smsa66': '=1 if in SMSA, 1966',\n",
       " 'wage': 'hourly wage in cents, 1976',\n",
       " 'enroll': '=1 if enrolled in school, 1976',\n",
       " 'kww': 'knowledge world of work score',\n",
       " 'iq': 'IQ score',\n",
       " 'married': '=1 if married, 1976',\n",
       " 'libcrd14': '=1 if lib. card in home at 14',\n",
       " 'exper': 'age - educ - 6',\n",
       " 'lwage': 'log(wage)',\n",
       " 'expersq': 'exper^2'}"
      ]
     },
     "execution_count": 14,
     "metadata": {},
     "output_type": "execute_result"
    }
   ],
   "source": [
    "import pandas as pd \n",
    "import matplotlib.pyplot as plt\n",
    "import seaborn as sns\n",
    "import statsmodels.formula.api as smf\n",
    "import statsmodels.api as sm\n",
    "\n",
    "from linearmodels.iv import IV2SLS\n",
    "from statsmodels.iolib.summary2 import summary_col\n",
    "import warnings\n",
    "warnings.filterwarnings('ignore', category=FutureWarning)\n",
    "warnings.filterwarnings('ignore', category=DeprecationWarning)\n",
    "warnings.filterwarnings = lambda *a, **kw: None\n",
    "\n",
    "df = pd.read_stata('http://www.stata.com/data/jwooldridge/eacsap/card.dta')\n",
    "pd.read_stata('http://www.stata.com/data/jwooldridge/eacsap/card.dta', iterator=True).variable_labels()"
   ]
  },
  {
   "cell_type": "code",
   "execution_count": 15,
   "metadata": {},
   "outputs": [
    {
     "data": {
      "text/html": [
       "<div>\n",
       "<style scoped>\n",
       "    .dataframe tbody tr th:only-of-type {\n",
       "        vertical-align: middle;\n",
       "    }\n",
       "\n",
       "    .dataframe tbody tr th {\n",
       "        vertical-align: top;\n",
       "    }\n",
       "\n",
       "    .dataframe thead th {\n",
       "        text-align: right;\n",
       "    }\n",
       "</style>\n",
       "<table border=\"1\" class=\"dataframe\">\n",
       "  <thead>\n",
       "    <tr style=\"text-align: right;\">\n",
       "      <th></th>\n",
       "      <th>id</th>\n",
       "      <th>nearc2</th>\n",
       "      <th>nearc4</th>\n",
       "      <th>educ</th>\n",
       "      <th>age</th>\n",
       "      <th>fatheduc</th>\n",
       "      <th>motheduc</th>\n",
       "      <th>weight</th>\n",
       "      <th>momdad14</th>\n",
       "      <th>sinmom14</th>\n",
       "      <th>...</th>\n",
       "      <th>smsa66</th>\n",
       "      <th>wage</th>\n",
       "      <th>enroll</th>\n",
       "      <th>kww</th>\n",
       "      <th>iq</th>\n",
       "      <th>married</th>\n",
       "      <th>libcrd14</th>\n",
       "      <th>exper</th>\n",
       "      <th>lwage</th>\n",
       "      <th>expersq</th>\n",
       "    </tr>\n",
       "  </thead>\n",
       "  <tbody>\n",
       "    <tr>\n",
       "      <th>0</th>\n",
       "      <td>2</td>\n",
       "      <td>0</td>\n",
       "      <td>0</td>\n",
       "      <td>7</td>\n",
       "      <td>29</td>\n",
       "      <td>NaN</td>\n",
       "      <td>NaN</td>\n",
       "      <td>158413.0</td>\n",
       "      <td>1</td>\n",
       "      <td>0</td>\n",
       "      <td>...</td>\n",
       "      <td>1</td>\n",
       "      <td>548</td>\n",
       "      <td>0</td>\n",
       "      <td>15.0</td>\n",
       "      <td>NaN</td>\n",
       "      <td>1.0</td>\n",
       "      <td>0.0</td>\n",
       "      <td>16</td>\n",
       "      <td>6.306275</td>\n",
       "      <td>256</td>\n",
       "    </tr>\n",
       "    <tr>\n",
       "      <th>1</th>\n",
       "      <td>3</td>\n",
       "      <td>0</td>\n",
       "      <td>0</td>\n",
       "      <td>12</td>\n",
       "      <td>27</td>\n",
       "      <td>8.0</td>\n",
       "      <td>8.0</td>\n",
       "      <td>380166.0</td>\n",
       "      <td>1</td>\n",
       "      <td>0</td>\n",
       "      <td>...</td>\n",
       "      <td>1</td>\n",
       "      <td>481</td>\n",
       "      <td>0</td>\n",
       "      <td>35.0</td>\n",
       "      <td>93.0</td>\n",
       "      <td>1.0</td>\n",
       "      <td>1.0</td>\n",
       "      <td>9</td>\n",
       "      <td>6.175867</td>\n",
       "      <td>81</td>\n",
       "    </tr>\n",
       "    <tr>\n",
       "      <th>2</th>\n",
       "      <td>4</td>\n",
       "      <td>0</td>\n",
       "      <td>0</td>\n",
       "      <td>12</td>\n",
       "      <td>34</td>\n",
       "      <td>14.0</td>\n",
       "      <td>12.0</td>\n",
       "      <td>367470.0</td>\n",
       "      <td>1</td>\n",
       "      <td>0</td>\n",
       "      <td>...</td>\n",
       "      <td>1</td>\n",
       "      <td>721</td>\n",
       "      <td>0</td>\n",
       "      <td>42.0</td>\n",
       "      <td>103.0</td>\n",
       "      <td>1.0</td>\n",
       "      <td>1.0</td>\n",
       "      <td>16</td>\n",
       "      <td>6.580639</td>\n",
       "      <td>256</td>\n",
       "    </tr>\n",
       "    <tr>\n",
       "      <th>3</th>\n",
       "      <td>5</td>\n",
       "      <td>1</td>\n",
       "      <td>1</td>\n",
       "      <td>11</td>\n",
       "      <td>27</td>\n",
       "      <td>11.0</td>\n",
       "      <td>12.0</td>\n",
       "      <td>380166.0</td>\n",
       "      <td>1</td>\n",
       "      <td>0</td>\n",
       "      <td>...</td>\n",
       "      <td>1</td>\n",
       "      <td>250</td>\n",
       "      <td>0</td>\n",
       "      <td>25.0</td>\n",
       "      <td>88.0</td>\n",
       "      <td>1.0</td>\n",
       "      <td>1.0</td>\n",
       "      <td>10</td>\n",
       "      <td>5.521461</td>\n",
       "      <td>100</td>\n",
       "    </tr>\n",
       "    <tr>\n",
       "      <th>4</th>\n",
       "      <td>6</td>\n",
       "      <td>1</td>\n",
       "      <td>1</td>\n",
       "      <td>12</td>\n",
       "      <td>34</td>\n",
       "      <td>8.0</td>\n",
       "      <td>7.0</td>\n",
       "      <td>367470.0</td>\n",
       "      <td>1</td>\n",
       "      <td>0</td>\n",
       "      <td>...</td>\n",
       "      <td>1</td>\n",
       "      <td>729</td>\n",
       "      <td>0</td>\n",
       "      <td>34.0</td>\n",
       "      <td>108.0</td>\n",
       "      <td>1.0</td>\n",
       "      <td>0.0</td>\n",
       "      <td>16</td>\n",
       "      <td>6.591674</td>\n",
       "      <td>256</td>\n",
       "    </tr>\n",
       "  </tbody>\n",
       "</table>\n",
       "<p>5 rows × 34 columns</p>\n",
       "</div>"
      ],
      "text/plain": [
       "   id  nearc2  nearc4  educ  age  fatheduc  motheduc    weight  momdad14  \\\n",
       "0   2       0       0     7   29       NaN       NaN  158413.0         1   \n",
       "1   3       0       0    12   27       8.0       8.0  380166.0         1   \n",
       "2   4       0       0    12   34      14.0      12.0  367470.0         1   \n",
       "3   5       1       1    11   27      11.0      12.0  380166.0         1   \n",
       "4   6       1       1    12   34       8.0       7.0  367470.0         1   \n",
       "\n",
       "   sinmom14  ...  smsa66  wage  enroll   kww     iq  married  libcrd14  exper  \\\n",
       "0         0  ...       1   548       0  15.0    NaN      1.0       0.0     16   \n",
       "1         0  ...       1   481       0  35.0   93.0      1.0       1.0      9   \n",
       "2         0  ...       1   721       0  42.0  103.0      1.0       1.0     16   \n",
       "3         0  ...       1   250       0  25.0   88.0      1.0       1.0     10   \n",
       "4         0  ...       1   729       0  34.0  108.0      1.0       0.0     16   \n",
       "\n",
       "      lwage  expersq  \n",
       "0  6.306275      256  \n",
       "1  6.175867       81  \n",
       "2  6.580639      256  \n",
       "3  5.521461      100  \n",
       "4  6.591674      256  \n",
       "\n",
       "[5 rows x 34 columns]"
      ]
     },
     "execution_count": 15,
     "metadata": {},
     "output_type": "execute_result"
    }
   ],
   "source": [
    "df.head()"
   ]
  },
  {
   "cell_type": "markdown",
   "metadata": {},
   "source": [
    "### OLS"
   ]
  },
  {
   "cell_type": "code",
   "execution_count": 16,
   "metadata": {},
   "outputs": [
    {
     "data": {
      "text/plain": [
       "<Axes: xlabel='educ', ylabel='lwage'>"
      ]
     },
     "execution_count": 16,
     "metadata": {},
     "output_type": "execute_result"
    },
    {
     "data": {
      "image/png": "[encoded data removed]",
      "text/plain": [
       "<Figure size 640x480 with 1 Axes>"
      ]
     },
     "metadata": {},
     "output_type": "display_data"
    }
   ],
   "source": [
    "##plot log wages against education\n",
    "sns.set_theme()\n",
    "sns.scatterplot(x='educ',y='lwage',data=df)\n",
    "\n"
   ]
  },
  {
   "cell_type": "code",
   "execution_count": 17,
   "metadata": {},
   "outputs": [
    {
     "name": "stdout",
     "output_type": "stream",
     "text": [
      "                            OLS Regression Results                            \n",
      "==============================================================================\n",
      "Dep. Variable:                  lwage   R-squared:                       0.900\n",
      "Model:                            OLS   Adj. R-squared:                  0.900\n",
      "Method:                 Least Squares   F-statistic:                 3.749e+05\n",
      "Date:                Mon, 13 Nov 2023   Prob (F-statistic):               0.00\n",
      "Time:                        14:02:48   Log-Likelihood:                 979.02\n",
      "No. Observations:                1618   AIC:                            -1934.\n",
      "Df Residuals:                    1606   BIC:                            -1869.\n",
      "Df Model:                          11                                         \n",
      "Covariance Type:                  HC3                                         \n",
      "==============================================================================\n",
      "                 coef    std err          z      P>|z|      [0.025      0.975]\n",
      "------------------------------------------------------------------------------\n",
      "const          0.4183      0.004    106.388      0.000       0.411       0.426\n",
      "educ          -0.8366      0.008   -109.861      0.000      -0.851      -0.822\n",
      "wage           0.0015   4.26e-05     34.673      0.000       0.001       0.002\n",
      "age            0.8349      0.007    122.760      0.000       0.822       0.848\n",
      "fatheduc      -0.0043      0.001     -3.289      0.001      -0.007      -0.002\n",
      "motheduc       0.0036      0.002      2.160      0.031       0.000       0.007\n",
      "momdad14      -0.0433      0.018     -2.428      0.015      -0.078      -0.008\n",
      "sinmom14      -0.0314      0.059     -0.530      0.596      -0.148       0.085\n",
      "step14        -0.0657      0.027     -2.448      0.014      -0.118      -0.013\n",
      "married       -0.0081      0.002     -4.426      0.000      -0.012      -0.005\n",
      "iq             0.0010      0.000      3.083      0.002       0.000       0.002\n",
      "exper         -0.8382      0.010    -86.854      0.000      -0.857      -0.819\n",
      "expersq        0.0002      0.000      0.956      0.339      -0.000       0.001\n",
      "==============================================================================\n",
      "Omnibus:                     1101.039   Durbin-Watson:                   2.002\n",
      "Prob(Omnibus):                  0.000   Jarque-Bera (JB):            15644.333\n",
      "Skew:                          -3.048   Prob(JB):                         0.00\n",
      "Kurtosis:                      16.961   Cond. No.                     5.48e+16\n",
      "==============================================================================\n",
      "\n",
      "Notes:\n",
      "[1] Standard Errors are heteroscedasticity robust (HC3)\n",
      "[2] The smallest eigenvalue is 2.53e-25. This might indicate that there are\n",
      "strong multicollinearity problems or that the design matrix is singular.\n"
     ]
    }
   ],
   "source": [
    "##Regress log wages (lwage) against educ and include controls, use robust standard errors.\n",
    "\n",
    "covariates = ['wage','age','fatheduc','motheduc','momdad14','sinmom14','step14','married','iq','exper','expersq']\n",
    "df = df.dropna(subset=['lwage', 'educ']+covariates)\n",
    "y = df['lwage']\n",
    "X_term = sm.add_constant(df[['educ'] + covariates])\n",
    "ols = sm.OLS(y,X_term)\n",
    "res = ols.fit(cov_type='HC3')\n",
    "print(res.summary())"
   ]
  },
  {
   "cell_type": "markdown",
   "metadata": {},
   "source": [
    "**What are other possible confunders?**\n",
    "\n",
    "Other possible confounders could include parental wealth and occupation, which could impact the child's education and career path. Another confounder that could impact both the treatment and outcome could be the current economic conditions. This could impact how many years someone could afford to go to school, and also impact the types of jobs available.  "
   ]
  },
  {
   "cell_type": "markdown",
   "metadata": {},
   "source": [
    "### 2SLS\n",
    "\n",
    "You will use only on proximity to a 4-years college ($nearc4$) as instrument. "
   ]
  },
  {
   "cell_type": "code",
   "execution_count": 18,
   "metadata": {},
   "outputs": [
    {
     "data": {
      "text/plain": [
       "<Axes: xlabel='nearc4', ylabel='lwage'>"
      ]
     },
     "execution_count": 18,
     "metadata": {},
     "output_type": "execute_result"
    },
    {
     "data": {
      "image/png": "[encoded data removed]",
      "text/plain": [
       "<Figure size 640x480 with 1 Axes>"
      ]
     },
     "metadata": {},
     "output_type": "display_data"
    }
   ],
   "source": [
    "##plot log wages against nearc4\n",
    "sns.set_theme()\n",
    "sns.scatterplot(x='nearc4',y='lwage',data=df)\n"
   ]
  },
  {
   "cell_type": "code",
   "execution_count": 19,
   "metadata": {},
   "outputs": [
    {
     "data": {
      "text/plain": [
       "<Axes: xlabel='nearc4', ylabel='educ'>"
      ]
     },
     "execution_count": 19,
     "metadata": {},
     "output_type": "execute_result"
    },
    {
     "data": {
      "image/png": "[encoded data removed]",
      "text/plain": [
       "<Figure size 640x480 with 1 Axes>"
      ]
     },
     "metadata": {},
     "output_type": "display_data"
    }
   ],
   "source": [
    "##plot education against nearc4\n",
    "sns.set_theme()\n",
    "sns.scatterplot(x='nearc4',y='educ',data=df)"
   ]
  },
  {
   "cell_type": "markdown",
   "metadata": {},
   "source": [
    "**If you run an IV regression of log wages on education, using college proximity as an instrument for education, what would you expect the sign of the coefficient on education to be? Why?**\n",
    "Positive, because the education should still have a positive impact on the log wages, even when using college proximity as an instrument. \n"
   ]
  },
  {
   "cell_type": "code",
   "execution_count": 20,
   "metadata": {},
   "outputs": [
    {
     "name": "stdout",
     "output_type": "stream",
     "text": [
      "                            OLS Regression Results                            \n",
      "==============================================================================\n",
      "Dep. Variable:                 nearc4   R-squared:                       0.024\n",
      "Model:                            OLS   Adj. R-squared:                  0.017\n",
      "Method:                 Least Squares   F-statistic:                     362.2\n",
      "Date:                Mon, 13 Nov 2023   Prob (F-statistic):               0.00\n",
      "Time:                        14:02:49   Log-Likelihood:                -1000.7\n",
      "No. Observations:                1618   AIC:                             2025.\n",
      "Df Residuals:                    1606   BIC:                             2090.\n",
      "Df Model:                          11                                         \n",
      "Covariance Type:                  HC3                                         \n",
      "==============================================================================\n",
      "                 coef    std err          z      P>|z|      [0.025      0.975]\n",
      "------------------------------------------------------------------------------\n",
      "const          0.0273      0.015      1.849      0.064      -0.002       0.056\n",
      "educ          -0.0496      0.030     -1.669      0.095      -0.108       0.009\n",
      "wage           0.0002   4.18e-05      3.677      0.000    7.18e-05       0.000\n",
      "age            0.0615      0.026      2.344      0.019       0.010       0.113\n",
      "fatheduc       0.0094      0.004      2.172      0.030       0.001       0.018\n",
      "motheduc      -0.0075      0.005     -1.530      0.126      -0.017       0.002\n",
      "momdad14      -0.0985      0.118     -0.837      0.403      -0.329       0.132\n",
      "sinmom14      -0.0933      0.237     -0.393      0.694      -0.559       0.372\n",
      "step14        -0.1334      0.137     -0.972      0.331      -0.403       0.136\n",
      "married        0.0125      0.006      2.214      0.027       0.001       0.024\n",
      "iq             0.0006      0.001      0.694      0.488      -0.001       0.002\n",
      "exper         -0.0527      0.034     -1.533      0.125      -0.120       0.015\n",
      "expersq       -0.0004      0.001     -0.603      0.546      -0.002       0.001\n",
      "==============================================================================\n",
      "Omnibus:                      901.668   Durbin-Watson:                   0.250\n",
      "Prob(Omnibus):                  0.000   Jarque-Bera (JB):              292.466\n",
      "Skew:                          -0.876   Prob(JB):                     3.10e-64\n",
      "Kurtosis:                       1.873   Cond. No.                     5.48e+16\n",
      "==============================================================================\n",
      "\n",
      "Notes:\n",
      "[1] Standard Errors are heteroscedasticity robust (HC3)\n",
      "[2] The smallest eigenvalue is 2.53e-25. This might indicate that there are\n",
      "strong multicollinearity problems or that the design matrix is singular.\n"
     ]
    }
   ],
   "source": [
    "##run a regression of education on nearc4, adding the controls you selected before and using robust standard errors\n",
    "fs = covariates = ['wage','age','fatheduc','motheduc','momdad14','sinmom14','step14','married','iq','exper','expersq']\n",
    "df = df.dropna(subset=['nearc4', 'educ']+covariates)\n",
    "y = df['nearc4']\n",
    "X_term = sm.add_constant(df[['educ'] + covariates])\n",
    "ols2 = sm.OLS(y,X_term)\n",
    "res2 = ols2.fit(cov_type='HC3')\n",
    "print(res2.summary())"
   ]
  },
  {
   "cell_type": "code",
   "execution_count": 21,
   "metadata": {},
   "outputs": [],
   "source": [
    "##predict education from the previous regression\n",
    "df['educhat'] = res.predict(X_term)"
   ]
  },
  {
   "cell_type": "code",
   "execution_count": 22,
   "metadata": {},
   "outputs": [
    {
     "name": "stdout",
     "output_type": "stream",
     "text": [
      "                            OLS Regression Results                            \n",
      "==============================================================================\n",
      "Dep. Variable:                  lwage   R-squared:                       0.900\n",
      "Model:                            OLS   Adj. R-squared:                  0.900\n",
      "Method:                 Least Squares   F-statistic:                 3.749e+05\n",
      "Date:                Mon, 13 Nov 2023   Prob (F-statistic):               0.00\n",
      "Time:                        14:02:49   Log-Likelihood:                 979.02\n",
      "No. Observations:                1618   AIC:                            -1934.\n",
      "Df Residuals:                    1606   BIC:                            -1869.\n",
      "Df Model:                          11                                         \n",
      "Covariance Type:                  HC3                                         \n",
      "==============================================================================\n",
      "                 coef    std err          z      P>|z|      [0.025      0.975]\n",
      "------------------------------------------------------------------------------\n",
      "const          0.1778      0.002    108.269      0.000       0.175       0.181\n",
      "educhat        0.9673      0.009    109.547      0.000       0.950       0.985\n",
      "wage        4.835e-05   4.36e-05      1.110      0.267    -3.7e-05       0.000\n",
      "age        -5.369e-05      0.002     -0.030      0.976      -0.004       0.003\n",
      "fatheduc      -0.0001      0.001     -0.108      0.914      -0.003       0.002\n",
      "motheduc       0.0001      0.002      0.070      0.944      -0.003       0.003\n",
      "momdad14      -0.0014      0.018     -0.080      0.936      -0.036       0.033\n",
      "sinmom14      -0.0010      0.059     -0.017      0.986      -0.117       0.115\n",
      "step14        -0.0022      0.027     -0.080      0.936      -0.055       0.050\n",
      "married       -0.0003      0.002     -0.145      0.885      -0.004       0.003\n",
      "iq          3.144e-05      0.000      0.100      0.921      -0.001       0.001\n",
      "exper      -5.199e-05      0.004     -0.013      0.990      -0.008       0.008\n",
      "expersq     6.606e-06      0.000      0.031      0.975      -0.000       0.000\n",
      "==============================================================================\n",
      "Omnibus:                     1101.039   Durbin-Watson:                   2.002\n",
      "Prob(Omnibus):                  0.000   Jarque-Bera (JB):            15644.333\n",
      "Skew:                          -3.048   Prob(JB):                         0.00\n",
      "Kurtosis:                      16.961   Cond. No.                     8.87e+17\n",
      "==============================================================================\n",
      "\n",
      "Notes:\n",
      "[1] Standard Errors are heteroscedasticity robust (HC3)\n",
      "[2] The smallest eigenvalue is 9.67e-28. This might indicate that there are\n",
      "strong multicollinearity problems or that the design matrix is singular.\n"
     ]
    }
   ],
   "source": [
    "##run a regression of log wages on education and controls using robust standard errors\n",
    "##run a regression of education on nearc4, adding the controls you selected before and using robust standard errors\n",
    "fs = covariates = ['wage','age','fatheduc','motheduc','momdad14','sinmom14','step14','married','iq','exper','expersq']\n",
    "df = df.dropna(subset=['lwage', 'educhat']+covariates)\n",
    "y = df['lwage']\n",
    "X_term = sm.add_constant(df[['educhat'] + covariates])\n",
    "twosls = sm.OLS(y,X_term)\n",
    "res3 = twosls.fit(cov_type='HC3')\n",
    "print(res3.summary())"
   ]
  },
  {
   "cell_type": "code",
   "execution_count": 23,
   "metadata": {},
   "outputs": [
    {
     "name": "stdout",
     "output_type": "stream",
     "text": [
      "\n",
      "===============================\n",
      "               lwage I lwage II\n",
      "-------------------------------\n",
      "educ           -0.837          \n",
      "               (0.008)         \n",
      "educhat                0.967   \n",
      "                       (0.009) \n",
      "age            0.835   -0.000  \n",
      "               (0.007) (0.002) \n",
      "const          0.418   0.178   \n",
      "               (0.004) (0.002) \n",
      "exper          -0.838  -0.000  \n",
      "               (0.010) (0.004) \n",
      "expersq        0.000   0.000   \n",
      "               (0.000) (0.000) \n",
      "fatheduc       -0.004  -0.000  \n",
      "               (0.001) (0.001) \n",
      "iq             0.001   0.000   \n",
      "               (0.000) (0.000) \n",
      "married        -0.008  -0.000  \n",
      "               (0.002) (0.002) \n",
      "momdad14       -0.043  -0.001  \n",
      "               (0.018) (0.018) \n",
      "motheduc       0.004   0.000   \n",
      "               (0.002) (0.002) \n",
      "sinmom14       -0.031  -0.001  \n",
      "               (0.059) (0.059) \n",
      "step14         -0.066  -0.002  \n",
      "               (0.027) (0.027) \n",
      "wage           0.001   0.000   \n",
      "               (0.000) (0.000) \n",
      "R-squared      0.900   0.900   \n",
      "R-squared Adj. 0.900   0.900   \n",
      "N              1618    1618    \n",
      "===============================\n",
      "Standard errors in parentheses.\n"
     ]
    }
   ],
   "source": [
    "##compare the 2sls and ols estimates \n",
    "print(summary_col([res, res3], float_format='%0.3f', info_dict={'N': lambda x: \"{0:d}\".format(int(x.nobs))}, regressor_order=['educ', 'educhat']))"
   ]
  },
  {
   "cell_type": "markdown",
   "metadata": {},
   "source": [
    "**What do you think the difference in the estimates is due to?**\n",
    "The difference in these estimates is due to not taking the instrumental variable into account in the first regression, hurting the exogeneity."
   ]
  },
  {
   "cell_type": "markdown",
   "metadata": {},
   "source": [
    "### IV analysis"
   ]
  },
  {
   "cell_type": "code",
   "execution_count": 41,
   "metadata": {},
   "outputs": [
    {
     "name": "stdout",
     "output_type": "stream",
     "text": [
      "                          IV-2SLS Estimation Summary                          \n",
      "==============================================================================\n",
      "Dep. Variable:                   educ   R-squared:                      1.0000\n",
      "Estimator:                    IV-2SLS   Adj. R-squared:                 1.0000\n",
      "No. Observations:                1618   F-statistic:                 1.333e+17\n",
      "Date:                Mon, Nov 13 2023   P-value (F-stat)                0.0000\n",
      "Time:                        14:13:57   Distribution:                 chi2(12)\n",
      "Cov. Estimator:                robust                                         \n",
      "                                                                              \n",
      "                             Parameter Estimates                              \n",
      "==============================================================================\n",
      "            Parameter  Std. Err.     T-stat    P-value    Lower CI    Upper CI\n",
      "------------------------------------------------------------------------------\n",
      "const         -6.0000  3.296e-05 -1.821e+05     0.0000     -6.0001     -5.9999\n",
      "wage       -1.455e-10   8.96e-09    -0.0162     0.9870  -1.771e-08   1.742e-08\n",
      "age            1.0000  1.071e-08  9.338e+07     0.0000      1.0000      1.0000\n",
      "fatheduc    3.492e-10  2.602e-08     0.0134     0.9893  -5.065e-08   5.135e-08\n",
      "motheduc   -4.075e-10  2.208e-08    -0.0185     0.9853  -4.368e-08   4.287e-08\n",
      "momdad14   -2.841e-08  2.685e-07    -0.1058     0.9157  -5.546e-07   4.978e-07\n",
      "sinmom14    7.497e-08  2.066e-07     0.3628     0.7168    -3.3e-07     4.8e-07\n",
      "step14     -2.421e-08  4.041e-07    -0.0599     0.9522  -8.162e-07   7.677e-07\n",
      "married     8.149e-10  4.914e-08     0.0166     0.9868  -9.549e-08   9.712e-08\n",
      "iq         -7.276e-11   5.85e-09    -0.0124     0.9901  -1.154e-08   1.139e-08\n",
      "exper         -1.0000  1.211e-08 -8.256e+07     0.0000     -1.0000     -1.0000\n",
      "expersq    -1.819e-11  1.285e-09    -0.0142     0.9887  -2.538e-09   2.501e-09\n",
      "lwage       7.451e-08  6.061e-06     0.0123     0.9902   -1.18e-05   1.195e-05\n",
      "==============================================================================\n",
      "\n",
      "Endogenous: lwage\n",
      "Instruments: nearc4\n",
      "Robust Covariance (Heteroskedastic)\n",
      "Debiased: False\n"
     ]
    }
   ],
   "source": [
    "##use IV2sls to run the regression of log wages on education. using college proximity as an instrument for education\n",
    "##add the same controls as \n",
    "from linearmodels import IV2SLS\n",
    "exog = sm.add_constant(df[covariates])\n",
    "inst = df['nearc4']\n",
    "iv2sls = IV2SLS(exog=exog,endog=df['lwage'],instruments=inst,dependent=df['educ']).fit()\n",
    "print(iv2sls.summary)"
   ]
  }
 ],
 "metadata": {
  "kernelspec": {
   "display_name": "Python 3",
   "language": "python",
   "name": "python3"
  },
  "language_info": {
   "codemirror_mode": {
    "name": "ipython",
    "version": 3
   },
   "file_extension": ".py",
   "mimetype": "text/x-python",
   "name": "python",
   "nbconvert_exporter": "python",
   "pygments_lexer": "ipython3",
   "version": "3.11.3"
  }
 },
 "nbformat": 4,
 "nbformat_minor": 4
}
